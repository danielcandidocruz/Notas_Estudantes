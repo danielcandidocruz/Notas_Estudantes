{
  "nbformat": 4,
  "nbformat_minor": 0,
  "metadata": {
    "colab": {
      "provenance": [],
      "include_colab_link": true
    },
    "kernelspec": {
      "name": "python3",
      "display_name": "Python 3"
    },
    "language_info": {
      "name": "python"
    }
  },
  "cells": [
    {
      "cell_type": "markdown",
      "metadata": {
        "id": "view-in-github",
        "colab_type": "text"
      },
      "source": [
        "<a href=\"https://colab.research.google.com/github/danielcandidocruz/Notas_Estudantes/blob/main/Notas_Estudantes.ipynb\" target=\"_parent\"><img src=\"https://colab.research.google.com/assets/colab-badge.svg\" alt=\"Open In Colab\"/></a>"
      ]
    },
    {
      "cell_type": "code",
      "source": [
        "!pip install matplotlib"
      ],
      "metadata": {
        "id": "rsxrF2fEDWcc",
        "colab": {
          "base_uri": "https://localhost:8080/"
        },
        "outputId": "6c03fde2-4123-4fb9-efc8-00575efbdd3a"
      },
      "execution_count": null,
      "outputs": [
        {
          "output_type": "stream",
          "name": "stdout",
          "text": [
            "Looking in indexes: https://pypi.org/simple, https://us-python.pkg.dev/colab-wheels/public/simple/\n",
            "Requirement already satisfied: matplotlib in /usr/local/lib/python3.9/dist-packages (3.5.3)\n",
            "Requirement already satisfied: packaging>=20.0 in /usr/local/lib/python3.9/dist-packages (from matplotlib) (23.0)\n",
            "Requirement already satisfied: pyparsing>=2.2.1 in /usr/local/lib/python3.9/dist-packages (from matplotlib) (3.0.9)\n",
            "Requirement already satisfied: numpy>=1.17 in /usr/local/lib/python3.9/dist-packages (from matplotlib) (1.22.4)\n",
            "Requirement already satisfied: pillow>=6.2.0 in /usr/local/lib/python3.9/dist-packages (from matplotlib) (8.4.0)\n",
            "Requirement already satisfied: kiwisolver>=1.0.1 in /usr/local/lib/python3.9/dist-packages (from matplotlib) (1.4.4)\n",
            "Requirement already satisfied: python-dateutil>=2.7 in /usr/local/lib/python3.9/dist-packages (from matplotlib) (2.8.2)\n",
            "Requirement already satisfied: cycler>=0.10 in /usr/local/lib/python3.9/dist-packages (from matplotlib) (0.11.0)\n",
            "Requirement already satisfied: fonttools>=4.22.0 in /usr/local/lib/python3.9/dist-packages (from matplotlib) (4.39.0)\n",
            "Requirement already satisfied: six>=1.5 in /usr/local/lib/python3.9/dist-packages (from python-dateutil>=2.7->matplotlib) (1.15.0)\n"
          ]
        }
      ]
    },
    {
      "cell_type": "code",
      "source": [
        "!pip install matplotlib==3.6.2"
      ],
      "metadata": {
        "id": "s7JtnISoNHjf",
        "colab": {
          "base_uri": "https://localhost:8080/"
        },
        "outputId": "e7bb62a4-64ca-4cbe-8e09-dc1bdfeb5a83"
      },
      "execution_count": null,
      "outputs": [
        {
          "output_type": "stream",
          "name": "stdout",
          "text": [
            "Looking in indexes: https://pypi.org/simple, https://us-python.pkg.dev/colab-wheels/public/simple/\n",
            "Requirement already satisfied: matplotlib==3.6.2 in /usr/local/lib/python3.9/dist-packages (3.6.2)\n",
            "Requirement already satisfied: kiwisolver>=1.0.1 in /usr/local/lib/python3.9/dist-packages (from matplotlib==3.6.2) (1.4.4)\n",
            "Requirement already satisfied: pyparsing>=2.2.1 in /usr/local/lib/python3.9/dist-packages (from matplotlib==3.6.2) (3.0.9)\n",
            "Requirement already satisfied: fonttools>=4.22.0 in /usr/local/lib/python3.9/dist-packages (from matplotlib==3.6.2) (4.39.0)\n",
            "Requirement already satisfied: cycler>=0.10 in /usr/local/lib/python3.9/dist-packages (from matplotlib==3.6.2) (0.11.0)\n",
            "Requirement already satisfied: packaging>=20.0 in /usr/local/lib/python3.9/dist-packages (from matplotlib==3.6.2) (23.0)\n",
            "Requirement already satisfied: python-dateutil>=2.7 in /usr/local/lib/python3.9/dist-packages (from matplotlib==3.6.2) (2.8.2)\n",
            "Requirement already satisfied: pillow>=6.2.0 in /usr/local/lib/python3.9/dist-packages (from matplotlib==3.6.2) (8.4.0)\n",
            "Requirement already satisfied: contourpy>=1.0.1 in /usr/local/lib/python3.9/dist-packages (from matplotlib==3.6.2) (1.0.7)\n",
            "Requirement already satisfied: numpy>=1.19 in /usr/local/lib/python3.9/dist-packages (from matplotlib==3.6.2) (1.22.4)\n",
            "Requirement already satisfied: six>=1.5 in /usr/local/lib/python3.9/dist-packages (from python-dateutil>=2.7->matplotlib==3.6.2) (1.15.0)\n"
          ]
        }
      ]
    },
    {
      "cell_type": "code",
      "source": [
        "import matplotlib"
      ],
      "metadata": {
        "id": "IOP3GEKUDNaS"
      },
      "execution_count": null,
      "outputs": []
    },
    {
      "cell_type": "code",
      "source": [
        "matplotlib.__version__"
      ],
      "metadata": {
        "id": "xciT3_H0DNUS",
        "colab": {
          "base_uri": "https://localhost:8080/",
          "height": 35
        },
        "outputId": "d4d667de-754e-4cb4-9843-bdf54d41bbc1"
      },
      "execution_count": null,
      "outputs": [
        {
          "output_type": "execute_result",
          "data": {
            "text/plain": [
              "'3.6.2'"
            ],
            "application/vnd.google.colaboratory.intrinsic+json": {
              "type": "string"
            }
          },
          "metadata": {},
          "execution_count": 3
        }
      ]
    },
    {
      "cell_type": "code",
      "source": [
        "import matplotlib.pyplot as plt"
      ],
      "metadata": {
        "id": "I8x0l_5uDNXE"
      },
      "execution_count": null,
      "outputs": []
    },
    {
      "cell_type": "code",
      "source": [
        "plt.show()"
      ],
      "metadata": {
        "id": "MjQYbxA-DWWT"
      },
      "execution_count": null,
      "outputs": []
    },
    {
      "cell_type": "code",
      "source": [
        "import matplotlib.pyplot as plt"
      ],
      "metadata": {
        "id": "jKBw5ho2DWTa"
      },
      "execution_count": null,
      "outputs": []
    },
    {
      "cell_type": "code",
      "source": [
        "estudantes = [\"João\", \"Maria\", \"José\"]\n",
        "notas = [8.5, 9, 6.5]"
      ],
      "metadata": {
        "id": "3Q8p9LonGo63"
      },
      "execution_count": null,
      "outputs": []
    },
    {
      "cell_type": "code",
      "source": [
        "plt.bar(x = estudantes, height = notas)"
      ],
      "metadata": {
        "id": "yhwQqLmBRvIw",
        "colab": {
          "base_uri": "https://localhost:8080/",
          "height": 283
        },
        "outputId": "9e6618cf-bfac-4e9e-9147-3c54d062111d"
      },
      "execution_count": null,
      "outputs": [
        {
          "output_type": "execute_result",
          "data": {
            "text/plain": [
              "<BarContainer object of 3 artists>"
            ]
          },
          "metadata": {},
          "execution_count": 9
        },
        {
          "output_type": "display_data",
          "data": {
            "text/plain": [
              "<Figure size 432x288 with 1 Axes>"
            ],
            "image/png": "[encoded data removed]"
          },
          "metadata": {
            "needs_background": "light"
          }
        }
      ]
    },
    {
      "cell_type": "code",
      "source": [
        "estudantes_2 = [\"João\", \"Maria\", \"José\", \"Ana\"]"
      ],
      "metadata": {
        "id": "vnqGBX4DYv17"
      },
      "execution_count": null,
      "outputs": []
    },
    {
      "cell_type": "code",
      "source": [
        "from random import choice"
      ],
      "metadata": {
        "id": "5UYHaiWaGoy1"
      },
      "execution_count": null,
      "outputs": []
    },
    {
      "cell_type": "code",
      "source": [
        "help(choice)"
      ],
      "metadata": {
        "id": "fKv4W4PJXNOR",
        "colab": {
          "base_uri": "https://localhost:8080/"
        },
        "outputId": "6189596c-d267-4b08-af06-63f6dcdb0647"
      },
      "execution_count": null,
      "outputs": [
        {
          "output_type": "stream",
          "name": "stdout",
          "text": [
            "Help on method choice in module random:\n",
            "\n",
            "choice(seq) method of random.Random instance\n",
            "    Choose a random element from a non-empty sequence.\n",
            "\n"
          ]
        }
      ]
    },
    {
      "cell_type": "code",
      "source": [
        "estudante = choice(estudantes_2)\n",
        "estudante"
      ],
      "metadata": {
        "id": "Pal_mZsFcV80",
        "colab": {
          "base_uri": "https://localhost:8080/",
          "height": 35
        },
        "outputId": "f3917bca-8e03-4dea-b3c0-39fcf69615df"
      },
      "execution_count": null,
      "outputs": [
        {
          "output_type": "execute_result",
          "data": {
            "text/plain": [
              "'José'"
            ],
            "application/vnd.google.colaboratory.intrinsic+json": {
              "type": "string"
            }
          },
          "metadata": {},
          "execution_count": 16
        }
      ]
    },
    {
      "cell_type": "code",
      "source": [
        "notas = {'1º Trimestre': 8.5, '2º Trimestre': 9.5, '3º trimestre': 7}\n",
        "notas"
      ],
      "metadata": {
        "colab": {
          "base_uri": "https://localhost:8080/"
        },
        "id": "kRAMC_KbI6U4",
        "outputId": "4a1e4823-ec1c-4580-9028-fcdf7ae3c6a4"
      },
      "execution_count": null,
      "outputs": [
        {
          "output_type": "execute_result",
          "data": {
            "text/plain": [
              "{'1º Trimestre': 8.5, '2º Trimestre': 9.5, '3º trimestre': 7}"
            ]
          },
          "metadata": {},
          "execution_count": 7
        }
      ]
    },
    {
      "cell_type": "code",
      "source": [
        "soma = 0\n",
        "\n",
        "for nota in notas.values():\n",
        "  soma += nota\n",
        "\n",
        "soma"
      ],
      "metadata": {
        "id": "S7vIqSZJI6P4",
        "colab": {
          "base_uri": "https://localhost:8080/"
        },
        "outputId": "89b80090-e591-4e51-e9b9-be89abaea4c2"
      },
      "execution_count": null,
      "outputs": [
        {
          "output_type": "execute_result",
          "data": {
            "text/plain": [
              "25.0"
            ]
          },
          "metadata": {},
          "execution_count": 13
        }
      ]
    },
    {
      "cell_type": "code",
      "source": [
        "somatorio = sum(notas.values())\n",
        "somatorio"
      ],
      "metadata": {
        "id": "yr9YSRwNPF9S",
        "colab": {
          "base_uri": "https://localhost:8080/"
        },
        "outputId": "c97aebc9-18ee-48e0-9bb1-77c488933353"
      },
      "execution_count": null,
      "outputs": [
        {
          "output_type": "execute_result",
          "data": {
            "text/plain": [
              "25.0"
            ]
          },
          "metadata": {},
          "execution_count": 14
        }
      ]
    },
    {
      "cell_type": "code",
      "source": [
        "qtd_notas = len(notas)\n",
        "qtd_notas"
      ],
      "metadata": {
        "id": "Zn6XAAdQI6Fw",
        "colab": {
          "base_uri": "https://localhost:8080/"
        },
        "outputId": "f0892cbb-70bb-4adf-d113-149e10668853"
      },
      "execution_count": null,
      "outputs": [
        {
          "output_type": "execute_result",
          "data": {
            "text/plain": [
              "3"
            ]
          },
          "metadata": {},
          "execution_count": 15
        }
      ]
    },
    {
      "cell_type": "code",
      "source": [
        "media = somatorio / qtd_notas\n",
        "media"
      ],
      "metadata": {
        "id": "iUx5UixrNsQh",
        "colab": {
          "base_uri": "https://localhost:8080/"
        },
        "outputId": "bd177251-2393-4d99-ddc6-613e634a1242"
      },
      "execution_count": null,
      "outputs": [
        {
          "output_type": "execute_result",
          "data": {
            "text/plain": [
              "8.333333333333334"
            ]
          },
          "metadata": {},
          "execution_count": 16
        }
      ]
    },
    {
      "cell_type": "code",
      "source": [
        "media = somatorio / qtd_notas\n",
        "media = round(media,1)\n",
        "media"
      ],
      "metadata": {
        "id": "cJ1C2Pg-4PNq",
        "colab": {
          "base_uri": "https://localhost:8080/"
        },
        "outputId": "0786a363-8461-49e7-f095-038a74fe6e97"
      },
      "execution_count": null,
      "outputs": [
        {
          "output_type": "execute_result",
          "data": {
            "text/plain": [
              "8.3"
            ]
          },
          "metadata": {},
          "execution_count": 18
        }
      ]
    },
    {
      "cell_type": "markdown",
      "source": [
        "### Funções sem parâmetros\n",
        "\n",
        "#### Formato padrão:\n",
        "\n",
        "```python\n",
        "def <nome>():\n",
        "  <instruções>\n",
        "```"
      ],
      "metadata": {
        "id": "zxyXiX462A_X"
      }
    },
    {
      "cell_type": "code",
      "source": [
        "def media():\n",
        "  calculo = (10 + 9 + 8) / 3\n",
        "  print(calculo)"
      ],
      "metadata": {
        "id": "zQtsnpyCzHfb"
      },
      "execution_count": null,
      "outputs": []
    },
    {
      "cell_type": "code",
      "source": [
        "media()"
      ],
      "metadata": {
        "id": "Eq4U8TPq0xOv",
        "colab": {
          "base_uri": "https://localhost:8080/"
        },
        "outputId": "e0606206-2295-4540-d79b-e8675846e6de"
      },
      "execution_count": null,
      "outputs": [
        {
          "output_type": "stream",
          "name": "stdout",
          "text": [
            "9.0\n"
          ]
        }
      ]
    },
    {
      "cell_type": "markdown",
      "source": [
        "### Funções com parâmetros\n",
        "\n",
        "#### Formato padrão:\n",
        "\n",
        "```python\n",
        "def <nome>(<param_1>, <param_2>, ..., <param_n>):\n",
        "  <instruções>\n",
        "```"
      ],
      "metadata": {
        "id": "o9AR_DNDFKSD"
      }
    },
    {
      "cell_type": "code",
      "source": [
        "def media(nota_1, nota_2, nota_3):\n",
        "  calculo = (nota_1 + nota_2 + nota_3)/3\n",
        "  print(calculo)"
      ],
      "metadata": {
        "id": "zVIvbjeRDR24"
      },
      "execution_count": null,
      "outputs": []
    },
    {
      "cell_type": "code",
      "source": [
        "media(3, 6, 9)"
      ],
      "metadata": {
        "id": "c6H9lfBn3FuA",
        "colab": {
          "base_uri": "https://localhost:8080/"
        },
        "outputId": "46b1e900-e208-4591-8510-86a301d4da16"
      },
      "execution_count": null,
      "outputs": [
        {
          "output_type": "stream",
          "name": "stdout",
          "text": [
            "6.0\n"
          ]
        }
      ]
    },
    {
      "cell_type": "code",
      "source": [
        "nota1 = 8\n",
        "nota2 = 7\n",
        "nota3 = 6\n",
        "\n",
        "media(nota_1 = nota1, nota_2 = nota2, nota_3 = nota3)"
      ],
      "metadata": {
        "id": "38M9GYEVQp_x",
        "colab": {
          "base_uri": "https://localhost:8080/"
        },
        "outputId": "da55b2d9-fa2b-4bd0-b191-f36b27916699"
      },
      "execution_count": null,
      "outputs": [
        {
          "output_type": "stream",
          "name": "stdout",
          "text": [
            "7.0\n"
          ]
        }
      ]
    },
    {
      "cell_type": "code",
      "source": [
        "# Notas do(a) estudante\n",
        "notas = [8.5, 9.0, 6.0, 10.0]"
      ],
      "metadata": {
        "id": "9AiWnXLuzc1P"
      },
      "execution_count": null,
      "outputs": []
    },
    {
      "cell_type": "code",
      "source": [
        "def media(lista):\n",
        "  calculo = sum(lista) / len(lista)\n",
        "  print(calculo)"
      ],
      "metadata": {
        "id": "bEf8Evf1DR0I"
      },
      "execution_count": null,
      "outputs": []
    },
    {
      "cell_type": "code",
      "source": [
        "media(notas)"
      ],
      "metadata": {
        "id": "R5ylO_vW6k8C",
        "colab": {
          "base_uri": "https://localhost:8080/"
        },
        "outputId": "81ae8212-d1f9-4cfb-9ca5-d5fad1ad73bc"
      },
      "execution_count": null,
      "outputs": [
        {
          "output_type": "stream",
          "name": "stdout",
          "text": [
            "8.375\n"
          ]
        }
      ]
    },
    {
      "cell_type": "code",
      "source": [
        "resultado = media(notas)"
      ],
      "metadata": {
        "id": "9wNMcPOK_T9F",
        "colab": {
          "base_uri": "https://localhost:8080/"
        },
        "outputId": "84e510c2-2d68-4080-9032-856486005487"
      },
      "execution_count": null,
      "outputs": [
        {
          "output_type": "stream",
          "name": "stdout",
          "text": [
            "8.375\n"
          ]
        }
      ]
    },
    {
      "cell_type": "code",
      "source": [
        "resultado"
      ],
      "metadata": {
        "id": "4xnmTQ9w_ZTi"
      },
      "execution_count": null,
      "outputs": []
    },
    {
      "cell_type": "code",
      "source": [
        "type(resultado)"
      ],
      "metadata": {
        "id": "x6m24TcG_W3w",
        "colab": {
          "base_uri": "https://localhost:8080/"
        },
        "outputId": "ea4f69d3-db36-4fa9-9906-05d5934986db"
      },
      "execution_count": null,
      "outputs": [
        {
          "output_type": "execute_result",
          "data": {
            "text/plain": [
              "NoneType"
            ]
          },
          "metadata": {},
          "execution_count": 33
        }
      ]
    },
    {
      "cell_type": "markdown",
      "source": [
        "## 2.3 Funções que retornam valores\n",
        "\n",
        "#### Formato padrão:\n",
        "\n",
        "```python\n",
        "def <nome>(<param_1>, <param_2>, ..., <param_n>):\n",
        "  <instruções>\n",
        "  return resultado\n",
        "```"
      ],
      "metadata": {
        "id": "-oDFGKcA52kG"
      }
    },
    {
      "cell_type": "code",
      "source": [
        "# Notas do(a) estudante\n",
        "notas = [8.5, 9.0, 6.0, 10.0]"
      ],
      "metadata": {
        "id": "GlWdnX7Ubgl3"
      },
      "execution_count": null,
      "outputs": []
    },
    {
      "cell_type": "code",
      "source": [
        "def media(lista):\n",
        "  calculo = sum(lista) / len(lista)\n",
        "  return calculo"
      ],
      "metadata": {
        "id": "B6yqoM7KAKKK"
      },
      "execution_count": null,
      "outputs": []
    },
    {
      "cell_type": "code",
      "source": [
        "resultado = media(notas)"
      ],
      "metadata": {
        "id": "GlqPKe3_AT0Q"
      },
      "execution_count": null,
      "outputs": []
    },
    {
      "cell_type": "code",
      "source": [
        "resultado"
      ],
      "metadata": {
        "id": "E81HZh8rAYJz",
        "colab": {
          "base_uri": "https://localhost:8080/"
        },
        "outputId": "30bad0d4-4b85-45a9-b1b5-fa2ad2ebe0f0"
      },
      "execution_count": null,
      "outputs": [
        {
          "output_type": "execute_result",
          "data": {
            "text/plain": [
              "8.375"
            ]
          },
          "metadata": {},
          "execution_count": 43
        }
      ]
    },
    {
      "cell_type": "code",
      "source": [
        "# Notas do(a) estudante\n",
        "notas = [6.0, 7.0, 9.0, 5.0]"
      ],
      "metadata": {
        "id": "8LmWZ2U9-Zv3"
      },
      "execution_count": null,
      "outputs": []
    },
    {
      "cell_type": "code",
      "source": [
        "def boletim(lista):\n",
        "  media = sum(lista) / len(lista)\n",
        "\n",
        "  if media >= 6:\n",
        "    situacao = \"Aprovado(a)\"\n",
        "  else:\n",
        "    situacao = \"Reprovado(a)\"\n",
        "\n",
        "  return (media, situacao)"
      ],
      "metadata": {
        "id": "bJ9KmlHv5o0i"
      },
      "execution_count": null,
      "outputs": []
    },
    {
      "cell_type": "code",
      "source": [
        "boletim(notas)"
      ],
      "metadata": {
        "id": "rIiA2cpB-squ",
        "colab": {
          "base_uri": "https://localhost:8080/"
        },
        "outputId": "21daceb3-5417-4dc9-e69c-8f9765c1c9c5"
      },
      "execution_count": null,
      "outputs": [
        {
          "output_type": "execute_result",
          "data": {
            "text/plain": [
              "(6.75, 'Aprovado(a)')"
            ]
          },
          "metadata": {},
          "execution_count": 46
        }
      ]
    },
    {
      "cell_type": "code",
      "source": [
        "media, situacao = boletim(notas)"
      ],
      "metadata": {
        "id": "_xf7bR6JBjD8"
      },
      "execution_count": null,
      "outputs": []
    },
    {
      "cell_type": "code",
      "source": [
        "media"
      ],
      "metadata": {
        "id": "5ixwo3o3CdQ0",
        "colab": {
          "base_uri": "https://localhost:8080/"
        },
        "outputId": "b21f61fd-8935-4c6c-a53e-dbc986debbac"
      },
      "execution_count": null,
      "outputs": [
        {
          "output_type": "execute_result",
          "data": {
            "text/plain": [
              "6.75"
            ]
          },
          "metadata": {},
          "execution_count": 48
        }
      ]
    },
    {
      "cell_type": "code",
      "source": [
        "situacao"
      ],
      "metadata": {
        "id": "VFQacFSICeaO",
        "colab": {
          "base_uri": "https://localhost:8080/",
          "height": 35
        },
        "outputId": "e53eb5a8-861e-4d70-b152-e59abee45217"
      },
      "execution_count": null,
      "outputs": [
        {
          "output_type": "execute_result",
          "data": {
            "text/plain": [
              "'Aprovado(a)'"
            ],
            "application/vnd.google.colaboratory.intrinsic+json": {
              "type": "string"
            }
          },
          "metadata": {},
          "execution_count": 49
        }
      ]
    },
    {
      "cell_type": "code",
      "source": [
        "print(f'O(a) estudante atingiu uma média de {media} e foi {situacao}.')"
      ],
      "metadata": {
        "id": "ecFviUvOCgXF",
        "colab": {
          "base_uri": "https://localhost:8080/"
        },
        "outputId": "2f276478-0acd-4f5a-919e-e46d67802798"
      },
      "execution_count": null,
      "outputs": [
        {
          "output_type": "stream",
          "name": "stdout",
          "text": [
            "O(a) estudante atingiu uma média de 6.75 e foi Aprovado(a).\n"
          ]
        }
      ]
    },
    {
      "cell_type": "code",
      "source": [
        "nota = float(input(\"Digite a nota do(a) estudante: \"))\n",
        "\n",
        "def qualitativo(x):\n",
        "  return x + 0.5\n",
        "\n",
        "qualitativo(nota)"
      ],
      "metadata": {
        "id": "4EjJD3w3lbzJ",
        "colab": {
          "base_uri": "https://localhost:8080/"
        },
        "outputId": "5f7ba210-461d-4ada-b179-f90638e0fb02"
      },
      "execution_count": null,
      "outputs": [
        {
          "name": "stdout",
          "output_type": "stream",
          "text": [
            "Digite a nota do(a) estudante: 8\n"
          ]
        },
        {
          "output_type": "execute_result",
          "data": {
            "text/plain": [
              "8.5"
            ]
          },
          "metadata": {},
          "execution_count": 63
        }
      ]
    },
    {
      "cell_type": "code",
      "source": [
        "nota = float(input(\"Digite a nota do(a) estudante: \"))\n",
        "\n",
        "qualitativo = lambda x: x + 0.5\n",
        "\n",
        "qualitativo(nota)"
      ],
      "metadata": {
        "id": "vZjaUmaJFp3D",
        "colab": {
          "base_uri": "https://localhost:8080/"
        },
        "outputId": "6cff887a-2a7a-4e71-fbd5-b5a276532b0c"
      },
      "execution_count": null,
      "outputs": [
        {
          "name": "stdout",
          "output_type": "stream",
          "text": [
            "Digite a nota do(a) estudante: 8\n"
          ]
        },
        {
          "output_type": "execute_result",
          "data": {
            "text/plain": [
              "8.5"
            ]
          },
          "metadata": {},
          "execution_count": 64
        }
      ]
    },
    {
      "cell_type": "code",
      "source": [
        "# Recebendo as notas e calculando a média ponderável\n",
        "N1 = float(input(\"Digite a 1ª nota do(a) estudante: \"))\n",
        "N2 = float(input(\"Digite a 2ª nota do(a) estudante: \"))\n",
        "N3 = float(input(\"Digite a 3ª nota do(a) estudante: \"))\n",
        "\n",
        "media_ponderavel = lambda x, y, z: (x * 3 + y * 2 + z * 5)/10\n",
        "media_estudante = media_ponderavel(N1, N2, N3)\n",
        "media_estudante"
      ],
      "metadata": {
        "colab": {
          "base_uri": "https://localhost:8080/"
        },
        "id": "azStYQgKnsZn",
        "outputId": "cc4ddc38-fd7d-44da-f469-c86a33f1330e"
      },
      "execution_count": null,
      "outputs": [
        {
          "name": "stdout",
          "output_type": "stream",
          "text": [
            "Digite a 1ª nota do(a) estudante: 8\n",
            "Digite a 2ª nota do(a) estudante: 5\n",
            "Digite a 3ª nota do(a) estudante: 9\n"
          ]
        },
        {
          "output_type": "execute_result",
          "data": {
            "text/plain": [
              "7.9"
            ]
          },
          "metadata": {},
          "execution_count": 67
        }
      ]
    },
    {
      "cell_type": "code",
      "source": [
        "# Exibindo a média\n",
        "print(f'O(a) estudante atingiu uma média de {media_estudante}')"
      ],
      "metadata": {
        "id": "Ek1s_FkjkQrW",
        "colab": {
          "base_uri": "https://localhost:8080/"
        },
        "outputId": "7860763a-3727-4126-bb86-1bcfb8af35cd"
      },
      "execution_count": null,
      "outputs": [
        {
          "output_type": "stream",
          "name": "stdout",
          "text": [
            "O(a) estudante atingiu uma média de 7.9\n"
          ]
        }
      ]
    },
    {
      "cell_type": "markdown",
      "source": [
        "### Mapeando valores\n",
        "\n",
        "#### Formato padrão:\n",
        "\n",
        "```python\n",
        "map(<lambda function>, <iterador>)\n",
        "```"
      ],
      "metadata": {
        "id": "SOK4BC4mmKbG"
      }
    },
    {
      "cell_type": "code",
      "source": [
        "# Notas do(a) estudante\n",
        "notas = [6.0, 7.0, 9.0, 5.5, 8.0]\n",
        "qualitativo = 0.5"
      ],
      "metadata": {
        "id": "RdoaWhuVI_OB"
      },
      "execution_count": null,
      "outputs": []
    },
    {
      "cell_type": "code",
      "source": [
        "notas_atualizadas = map(lambda x: x + qualitativo, notas)\n",
        "notas_atualizadas"
      ],
      "metadata": {
        "id": "iM2jXtC8m1zc",
        "colab": {
          "base_uri": "https://localhost:8080/"
        },
        "outputId": "8526944b-2805-4d34-8e8f-e3755f373730"
      },
      "execution_count": null,
      "outputs": [
        {
          "output_type": "execute_result",
          "data": {
            "text/plain": [
              "<map at 0x7f57f633b5b0>"
            ]
          },
          "metadata": {},
          "execution_count": 72
        }
      ]
    },
    {
      "cell_type": "code",
      "source": [
        "notas_atualizadas = list(notas_atualizadas)"
      ],
      "metadata": {
        "id": "dAq9-TNTm1wf"
      },
      "execution_count": null,
      "outputs": []
    },
    {
      "cell_type": "code",
      "source": [
        "notas_atualizadas"
      ],
      "metadata": {
        "colab": {
          "base_uri": "https://localhost:8080/"
        },
        "id": "Pa8QhrHio512",
        "outputId": "8cdf2a0d-1b73-4ca9-ae20-064f8d7dddea"
      },
      "execution_count": null,
      "outputs": [
        {
          "output_type": "execute_result",
          "data": {
            "text/plain": [
              "[6.5, 7.5, 9.5, 6.0, 8.5]"
            ]
          },
          "metadata": {},
          "execution_count": 74
        }
      ]
    },
    {
      "cell_type": "code",
      "source": [
        "notas"
      ],
      "metadata": {
        "id": "UTYdMYnSupnA",
        "outputId": "2bde4921-2c8c-407b-e5ef-a174704bcc17",
        "colab": {
          "base_uri": "https://localhost:8080/"
        }
      },
      "execution_count": null,
      "outputs": [
        {
          "output_type": "execute_result",
          "data": {
            "text/plain": [
              "[6.0, 7.0, 9.0, 5.5, 8.0]"
            ]
          },
          "metadata": {},
          "execution_count": 75
        }
      ]
    },
    {
      "cell_type": "code",
      "source": [
        "notas_turma = ['João', 8.0, 9.0, 10.0, 'Maria', 9.0, 7.0, 6.0, 'José', 3.4, 7.0, 7.0, 'Cláudia', 5.5, 6.6, 8.0, 'Ana', 6.0, 10.0, 9.5]"
      ],
      "metadata": {
        "id": "jlEP-c2YthpB"
      },
      "execution_count": null,
      "outputs": []
    },
    {
      "cell_type": "code",
      "source": [
        "nomes = []\n",
        "notas_juntas = []\n",
        "\n",
        "for i in range(len(notas_turma)):\n",
        "  if i % 4 ==0:\n",
        "    nomes.append(notas_turma[i])\n",
        "  else:\n",
        "    notas_juntas.append(notas_turma[i])"
      ],
      "metadata": {
        "id": "xP1H4Kw6uJTe"
      },
      "execution_count": null,
      "outputs": []
    },
    {
      "cell_type": "code",
      "source": [
        "nomes"
      ],
      "metadata": {
        "id": "pelnQlo-v4l3",
        "colab": {
          "base_uri": "https://localhost:8080/"
        },
        "outputId": "2f41ea66-a06d-4cf8-dab8-2110e70de000"
      },
      "execution_count": null,
      "outputs": [
        {
          "output_type": "execute_result",
          "data": {
            "text/plain": [
              "['João', 'Maria', 'José', 'Cláudia', 'Ana']"
            ]
          },
          "metadata": {},
          "execution_count": 5
        }
      ]
    },
    {
      "cell_type": "code",
      "source": [
        "notas_juntas"
      ],
      "metadata": {
        "id": "61NkIzLvxXFa",
        "colab": {
          "base_uri": "https://localhost:8080/"
        },
        "outputId": "002854c8-007f-42cb-eea9-7db2407c5395"
      },
      "execution_count": null,
      "outputs": [
        {
          "output_type": "execute_result",
          "data": {
            "text/plain": [
              "[8.0, 9.0, 10.0, 9.0, 7.0, 6.0, 3.4, 7.0, 7.0, 5.5, 6.6, 8.0, 6.0, 10.0, 9.5]"
            ]
          },
          "metadata": {},
          "execution_count": 6
        }
      ]
    },
    {
      "cell_type": "code",
      "source": [
        "notas = []\n",
        "\n",
        "for i in range(0, len(notas_juntas), 3):\n",
        "  notas.append([notas_juntas[i], notas_juntas[i+1], notas_juntas[i+2]])\n",
        "notas"
      ],
      "metadata": {
        "id": "eL-y49GmPpjN",
        "colab": {
          "base_uri": "https://localhost:8080/"
        },
        "outputId": "646a0c1a-37d1-4239-a063-4518e33cb201"
      },
      "execution_count": null,
      "outputs": [
        {
          "output_type": "execute_result",
          "data": {
            "text/plain": [
              "[[8.0, 9.0, 10.0],\n",
              " [9.0, 7.0, 6.0],\n",
              " [3.4, 7.0, 7.0],\n",
              " [5.5, 6.6, 8.0],\n",
              " [6.0, 10.0, 9.5]]"
            ]
          },
          "metadata": {},
          "execution_count": 7
        }
      ]
    },
    {
      "cell_type": "code",
      "source": [
        "notas[0]"
      ],
      "metadata": {
        "id": "awqddIuGFf-k",
        "colab": {
          "base_uri": "https://localhost:8080/"
        },
        "outputId": "ad92890d-9857-492d-e331-568f984124a5"
      },
      "execution_count": null,
      "outputs": [
        {
          "output_type": "execute_result",
          "data": {
            "text/plain": [
              "[8.0, 9.0, 10.0]"
            ]
          },
          "metadata": {},
          "execution_count": 8
        }
      ]
    },
    {
      "cell_type": "code",
      "source": [
        "notas[0][2]"
      ],
      "metadata": {
        "id": "PlDKPeCLDXU7",
        "colab": {
          "base_uri": "https://localhost:8080/"
        },
        "outputId": "0dfbcbaf-a78f-46a8-9229-3f9714107a5d"
      },
      "execution_count": null,
      "outputs": [
        {
          "output_type": "execute_result",
          "data": {
            "text/plain": [
              "10.0"
            ]
          },
          "metadata": {},
          "execution_count": 9
        }
      ]
    },
    {
      "cell_type": "code",
      "source": [
        "estudantes = [\"João\", \"Maria\", \"José\", \"Cláudia\", \"Ana\"]\n",
        "estudantes"
      ],
      "metadata": {
        "id": "aRB0zQ2_6aa9",
        "colab": {
          "base_uri": "https://localhost:8080/"
        },
        "outputId": "59f6050e-5ed5-4ede-8977-8916520f11ba"
      },
      "execution_count": null,
      "outputs": [
        {
          "output_type": "execute_result",
          "data": {
            "text/plain": [
              "['João', 'Maria', 'José', 'Cláudia', 'Ana']"
            ]
          },
          "metadata": {},
          "execution_count": 10
        }
      ]
    },
    {
      "cell_type": "code",
      "source": [
        "from random import randint\n",
        "\n",
        "def gera_codigo():\n",
        "  return str(randint(0,999))"
      ],
      "metadata": {
        "id": "wFHkckyg6aa-"
      },
      "execution_count": null,
      "outputs": []
    },
    {
      "cell_type": "code",
      "source": [
        "codigo_estudantes = []\n",
        "\n",
        "for i in range(len(estudantes)):\n",
        "  codigo_estudantes.append((estudantes[i], estudantes[i][0] + gera_codigo()))\n",
        "\n",
        "codigo_estudantes"
      ],
      "metadata": {
        "id": "tZItNHeo6aa-",
        "colab": {
          "base_uri": "https://localhost:8080/"
        },
        "outputId": "31bfa4a3-5d8f-4d90-fca0-96f16a0dbfa6"
      },
      "execution_count": null,
      "outputs": [
        {
          "output_type": "execute_result",
          "data": {
            "text/plain": [
              "[('João', 'J891'),\n",
              " ('Maria', 'M316'),\n",
              " ('José', 'J708'),\n",
              " ('Cláudia', 'C627'),\n",
              " ('Ana', 'A317')]"
            ]
          },
          "metadata": {},
          "execution_count": 13
        }
      ]
    },
    {
      "cell_type": "code",
      "source": [
        "notas = [[8.0, 9.0, 10.0], [9.0, 7.0, 6.0], [3.4, 7.0, 7.0], [5.5, 6.6, 8.0], [6.0, 10.0, 9.5]]"
      ],
      "metadata": {
        "id": "RR5D3LvYAOUd"
      },
      "execution_count": null,
      "outputs": []
    },
    {
      "cell_type": "code",
      "source": [
        "def media(lista: list=[0]) -> float:\n",
        "  ''' Função para calcular a média de notas passadas por uma lista\n",
        "\n",
        "  lista: list, default [0]\n",
        "    Lista com as notas para calcular a média\n",
        "  return = calculo: float\n",
        "    Média calculada\n",
        "  '''\n",
        "\n",
        "  calculo = sum(lista) / len(lista)\n",
        "\n",
        "  return calculo"
      ],
      "metadata": {
        "id": "J_atQRQdlpNe"
      },
      "execution_count": null,
      "outputs": []
    },
    {
      "cell_type": "code",
      "source": [
        "medias = [round(media(nota),1) for nota in notas]\n",
        "medias"
      ],
      "metadata": {
        "id": "G5CQqPkzQWT0",
        "colab": {
          "base_uri": "https://localhost:8080/"
        },
        "outputId": "7f0166e7-b961-41b1-8f46-32fdd804bfe1"
      },
      "execution_count": null,
      "outputs": [
        {
          "output_type": "execute_result",
          "data": {
            "text/plain": [
              "[9.0, 7.3, 5.8, 6.7, 8.5]"
            ]
          },
          "metadata": {},
          "execution_count": 19
        }
      ]
    },
    {
      "cell_type": "code",
      "source": [
        "nomes = [('João', 'J720'), ('Maria', 'M205'), ('José', 'J371'), ('Cláudia', 'C546'), ('Ana', 'A347')]\n",
        "medias = [9.0, 7.3, 5.8, 6.7, 8.5]"
      ],
      "metadata": {
        "id": "WhXegkP5DDMW"
      },
      "execution_count": null,
      "outputs": []
    },
    {
      "cell_type": "code",
      "source": [
        "# Gerando a lista de nomes (extraindo da tupla)\n",
        "nomes = [nome[0] for nome in nomes]\n",
        "nomes"
      ],
      "metadata": {
        "id": "Lvfr10SIDSDN",
        "colab": {
          "base_uri": "https://localhost:8080/"
        },
        "outputId": "ab4f0ab1-d200-4179-f7e0-8803d5df8711"
      },
      "execution_count": null,
      "outputs": [
        {
          "output_type": "execute_result",
          "data": {
            "text/plain": [
              "['João', 'Maria', 'José', 'Cláudia', 'Ana']"
            ]
          },
          "metadata": {},
          "execution_count": 21
        }
      ]
    },
    {
      "cell_type": "code",
      "source": [
        "estudantes = list(zip(nomes, medias))\n",
        "estudantes"
      ],
      "metadata": {
        "id": "TRqn0wMUg3s7",
        "colab": {
          "base_uri": "https://localhost:8080/"
        },
        "outputId": "4ab7e08e-c4f9-40bf-fbf8-b8edf2018240"
      },
      "execution_count": null,
      "outputs": [
        {
          "output_type": "execute_result",
          "data": {
            "text/plain": [
              "[('João', 9.0), ('Maria', 7.3), ('José', 5.8), ('Cláudia', 6.7), ('Ana', 8.5)]"
            ]
          },
          "metadata": {},
          "execution_count": 23
        }
      ]
    },
    {
      "cell_type": "code",
      "source": [
        "# Gerando a lista de pessoas candidatas a bolsa\n",
        "candidatos = [estudante[0] for estudante in estudantes if estudante[1] >= 8.0]\n",
        "candidatos"
      ],
      "metadata": {
        "id": "T1ocZ1G0g3qC",
        "colab": {
          "base_uri": "https://localhost:8080/"
        },
        "outputId": "db99f83c-b869-40cf-9ce4-2c5541c36054"
      },
      "execution_count": null,
      "outputs": [
        {
          "output_type": "execute_result",
          "data": {
            "text/plain": [
              "['João', 'Ana']"
            ]
          },
          "metadata": {},
          "execution_count": 24
        }
      ]
    },
    {
      "cell_type": "code",
      "source": [
        "nomes = [('João', 'J720'), ('Maria', 'M205'), ('José', 'J371'), ('Cláudia', 'C546'), ('Ana', 'A347')]\n",
        "notas = [[8.0, 9.0, 10.0], [9.0, 7.0, 6.0], [3.4, 7.0, 7.0], [5.5, 6.6, 8.0], [6.0, 10.0, 9.5]]\n",
        "medias = [9.0, 7.3, 5.8, 6.7, 8.5]"
      ],
      "metadata": {
        "id": "-QlKML-tG6FN"
      },
      "execution_count": null,
      "outputs": []
    },
    {
      "cell_type": "code",
      "source": [
        "situacao = [\"Aprovado(a)\" if media >= 6 else \"Reprovado(a)\" for media in medias]\n",
        "situacao"
      ],
      "metadata": {
        "id": "qYgaZthjQWQV",
        "colab": {
          "base_uri": "https://localhost:8080/"
        },
        "outputId": "8376e992-0817-444e-c925-23fc63150212"
      },
      "execution_count": null,
      "outputs": [
        {
          "output_type": "execute_result",
          "data": {
            "text/plain": [
              "['Aprovado(a)', 'Aprovado(a)', 'Reprovado(a)', 'Aprovado(a)', 'Aprovado(a)']"
            ]
          },
          "metadata": {},
          "execution_count": 27
        }
      ]
    },
    {
      "cell_type": "markdown",
      "source": [
        "**Dica:** Para gerar a lista de listas do enunciado podemos utilizar o formato a seguir\n",
        "```python\n",
        "[expr for item in lista de listas]\n",
        "```"
      ],
      "metadata": {
        "id": "0XsAi49IF9Ta"
      }
    },
    {
      "cell_type": "code",
      "source": [
        "cadastro = [x for x in [nomes, notas, medias, situacao]]\n",
        "cadastro"
      ],
      "metadata": {
        "id": "G-AEgh4NGlvH",
        "colab": {
          "base_uri": "https://localhost:8080/"
        },
        "outputId": "da3ce965-41d5-451e-e24a-f249949a4a9b"
      },
      "execution_count": null,
      "outputs": [
        {
          "output_type": "execute_result",
          "data": {
            "text/plain": [
              "[[('João', 'J720'),\n",
              "  ('Maria', 'M205'),\n",
              "  ('José', 'J371'),\n",
              "  ('Cláudia', 'C546'),\n",
              "  ('Ana', 'A347')],\n",
              " [[8.0, 9.0, 10.0],\n",
              "  [9.0, 7.0, 6.0],\n",
              "  [3.4, 7.0, 7.0],\n",
              "  [5.5, 6.6, 8.0],\n",
              "  [6.0, 10.0, 9.5]],\n",
              " [9.0, 7.3, 5.8, 6.7, 8.5],\n",
              " ['Aprovado(a)', 'Aprovado(a)', 'Reprovado(a)', 'Aprovado(a)', 'Aprovado(a)']]"
            ]
          },
          "metadata": {},
          "execution_count": 29
        }
      ]
    },
    {
      "cell_type": "code",
      "source": [
        "lista_completa = [nomes, notas, medias, situacao]\n",
        "lista_completa"
      ],
      "metadata": {
        "id": "Oz2hU80RF82D",
        "colab": {
          "base_uri": "https://localhost:8080/"
        },
        "outputId": "87632ce5-8f12-4a45-ccef-f19e82af39e5"
      },
      "execution_count": null,
      "outputs": [
        {
          "output_type": "execute_result",
          "data": {
            "text/plain": [
              "[[('João', 'J720'),\n",
              "  ('Maria', 'M205'),\n",
              "  ('José', 'J371'),\n",
              "  ('Cláudia', 'C546'),\n",
              "  ('Ana', 'A347')],\n",
              " [[8.0, 9.0, 10.0],\n",
              "  [9.0, 7.0, 6.0],\n",
              "  [3.4, 7.0, 7.0],\n",
              "  [5.5, 6.6, 8.0],\n",
              "  [6.0, 10.0, 9.5]],\n",
              " [9.0, 7.3, 5.8, 6.7, 8.5],\n",
              " ['Aprovado(a)', 'Aprovado(a)', 'Reprovado(a)', 'Aprovado(a)', 'Aprovado(a)']]"
            ]
          },
          "metadata": {},
          "execution_count": 30
        }
      ]
    },
    {
      "cell_type": "code",
      "source": [
        "lista_completa = [[('João', 'J720'), ('Maria', 'M205'), ('José', 'J371'), ('Cláudia', 'C546'), ('Ana', 'A347')],\n",
        "                  [[8.0, 9.0, 10.0], [9.0, 7.0, 6.0], [3.4, 7.0, 7.0], [5.5, 6.6, 8.0], [6.0, 10.0, 9.5]],\n",
        "                  [9.0, 7.3, 5.8, 6.7, 8.5],\n",
        "                  ['Aprovado', 'Aprovado', 'Reprovado', 'Aprovado', 'Aprovado']]"
      ],
      "metadata": {
        "id": "fD_TeWtOUQKQ"
      },
      "execution_count": null,
      "outputs": []
    },
    {
      "cell_type": "code",
      "source": [
        "# Colunas com os tipos dos dados (exceto nome)\n",
        "coluna = [\"Notas\", \"Média Final\", \"Situação\"]\n",
        "\n",
        "cadastro = {coluna[i]: lista_completa[i+1] for i in range(len(coluna))}\n",
        "cadastro"
      ],
      "metadata": {
        "id": "xFkmjd4EKG7b",
        "colab": {
          "base_uri": "https://localhost:8080/"
        },
        "outputId": "f90f60d5-8b28-481f-a29e-9fc0dafd8005"
      },
      "execution_count": null,
      "outputs": [
        {
          "output_type": "execute_result",
          "data": {
            "text/plain": [
              "{'Notas': [[8.0, 9.0, 10.0],\n",
              "  [9.0, 7.0, 6.0],\n",
              "  [3.4, 7.0, 7.0],\n",
              "  [5.5, 6.6, 8.0],\n",
              "  [6.0, 10.0, 9.5]],\n",
              " 'Média Final': [9.0, 7.3, 5.8, 6.7, 8.5],\n",
              " 'Situação': ['Aprovado', 'Aprovado', 'Reprovado', 'Aprovado', 'Aprovado']}"
            ]
          },
          "metadata": {},
          "execution_count": 38
        }
      ]
    },
    {
      "cell_type": "code",
      "source": [
        "# Vamos por fim adicionar o nome dos estudantes, extraindo apenas seus nomes da lista de tuplas\n",
        "cadastro[\"Estudante\"] = [lista_completa[0][i][0] for i in range(len(lista_completa[0]))]\n",
        "cadastro"
      ],
      "metadata": {
        "id": "yDPfgllCKVrt",
        "colab": {
          "base_uri": "https://localhost:8080/"
        },
        "outputId": "1ffa285a-f93d-4b3f-d0ba-c50c8f71613b"
      },
      "execution_count": null,
      "outputs": [
        {
          "output_type": "execute_result",
          "data": {
            "text/plain": [
              "{'Notas': [[8.0, 9.0, 10.0],\n",
              "  [9.0, 7.0, 6.0],\n",
              "  [3.4, 7.0, 7.0],\n",
              "  [5.5, 6.6, 8.0],\n",
              "  [6.0, 10.0, 9.5]],\n",
              " 'Média Final': [9.0, 7.3, 5.8, 6.7, 8.5],\n",
              " 'Situação': ['Aprovado', 'Aprovado', 'Reprovado', 'Aprovado', 'Aprovado'],\n",
              " 'Estudante': ['João', 'Maria', 'José', 'Cláudia', 'Ana']}"
            ]
          },
          "metadata": {},
          "execution_count": 39
        }
      ]
    },
    {
      "cell_type": "code",
      "source": [
        "notas = {'João': [8.0, 9.0, 10.0], 'Maria': [9.0, 7.0, 6.0], 'José': [3.4, 7.0, 8.0], 'Cláudia': [5.5, 6.6, 8.0],\n",
        " 'Ana': [6.0, 10.0, 9.5], 'Joaquim': [5.5, 7.5, 9.0], 'Júlia': [6.0, 8.0, 7.0], 'Pedro': [3.0, 4.0, 6.0]}"
      ],
      "metadata": {
        "id": "PkMmeYxaDcIF"
      },
      "execution_count": null,
      "outputs": []
    },
    {
      "cell_type": "code",
      "source": [
        "try:\n",
        "  nome = input(\"Digite o nome do(a) estudante: \")\n",
        "  resultado = notas[nome]\n",
        "except Exception as e:\n",
        "  print(type(e), f\"Erro: {e}\")"
      ],
      "metadata": {
        "id": "NEX6RRX7Wb0Y",
        "colab": {
          "base_uri": "https://localhost:8080/"
        },
        "outputId": "ccec8b35-e39c-4f36-f814-59cdaed6032b"
      },
      "execution_count": null,
      "outputs": [
        {
          "output_type": "stream",
          "name": "stdout",
          "text": [
            "Digite o nome do(a) estudante: Mirla\n",
            "<class 'KeyError'> Erro: 'Mirla'\n"
          ]
        }
      ]
    },
    {
      "cell_type": "code",
      "source": [
        "try:\n",
        "  nome = input(\"Digite o nome do(a) estudante: \")\n",
        "  resultado = notas[nome]\n",
        "except KeyError:\n",
        "  print(\"Estudante não matriculado(a) na turma\")"
      ],
      "metadata": {
        "id": "3oV8Bw-NGGiu",
        "colab": {
          "base_uri": "https://localhost:8080/"
        },
        "outputId": "e79009aa-91e9-4a31-e9b6-388a89dae72b"
      },
      "execution_count": null,
      "outputs": [
        {
          "output_type": "stream",
          "name": "stdout",
          "text": [
            "Digite o nome do(a) estudante: Marcelo\n",
            "Estudante não matriculado(a) na turma\n"
          ]
        }
      ]
    },
    {
      "cell_type": "code",
      "source": [
        "notas = {'João': [8.0, 9.0, 10.0], 'Maria': [9.0, 7.0, 6.0], 'José': [3.4, 7.0, 8.0], 'Cláudia': [5.5, 6.6, 8.0],\n",
        " 'Ana': [6.0, 10.0, 9.5], 'Joaquim': [5.5, 7.5, 9.0], 'Júlia': [6.0, 8.0, 7.0], 'Pedro': [3.0, 4.0, 6.0]}"
      ],
      "metadata": {
        "id": "zCdjBCDFLE_6"
      },
      "execution_count": null,
      "outputs": []
    },
    {
      "cell_type": "code",
      "source": [
        "try:\n",
        "  nome = input(\"Digite o nome do(a) estudante: \")\n",
        "  resultado = notas[nome]\n",
        "except KeyError:\n",
        "  print(\"Estudante não matriculado(a) na turma\")\n",
        "else:\n",
        "  print(resultado)"
      ],
      "metadata": {
        "id": "NS4vABJPDcFN",
        "colab": {
          "base_uri": "https://localhost:8080/"
        },
        "outputId": "b8e0dbfc-bd31-471c-b768-e2cdc0a5d40a"
      },
      "execution_count": null,
      "outputs": [
        {
          "output_type": "stream",
          "name": "stdout",
          "text": [
            "Digite o nome do(a) estudante: Joaquim\n",
            "[5.5, 7.5, 9.0]\n"
          ]
        }
      ]
    },
    {
      "cell_type": "code",
      "source": [
        "notas = {'João': [8.0, 9.0, 10.0], 'Maria': [9.0, 7.0, 6.0], 'José': [3.4, 7.0, 8.0], 'Cláudia': [5.5, 6.6, 8.0],\n",
        " 'Ana': [6.0, 10.0, 9.5], 'Joaquim': [5.5, 7.5, 9.0], 'Júlia': [6.0, 8.0, 7.0], 'Pedro': [3.0, 4.0, 6.0]}"
      ],
      "metadata": {
        "id": "uOLFoYweLN9W"
      },
      "execution_count": null,
      "outputs": []
    },
    {
      "cell_type": "code",
      "source": [
        "try:\n",
        "  nome = input(\"Digite o nome do(a) estudante: \")\n",
        "  resultado = notas[nome]\n",
        "except KeyError:\n",
        "  print(\"Estudante não matriculado(a) na turma\")\n",
        "else:\n",
        "  print(resultado)\n",
        "finally:\n",
        "  print(\"A consulta foi encerrada!\")"
      ],
      "metadata": {
        "id": "U8QCogXhBi8C",
        "colab": {
          "base_uri": "https://localhost:8080/"
        },
        "outputId": "cc5207ab-2f52-4b2c-bcbd-b2878d92d1e8"
      },
      "execution_count": null,
      "outputs": [
        {
          "output_type": "stream",
          "name": "stdout",
          "text": [
            "Digite o nome do(a) estudante: Bruno\n",
            "Estudante não matriculado(a) na turma\n",
            "A consulta foi encerrada!\n"
          ]
        }
      ]
    },
    {
      "cell_type": "code",
      "source": [
        "def media(lista: list=[0]) -> float:\n",
        "  ''' Função para calcular a média de notas passadas por uma lista\n",
        "\n",
        "  lista: list, default [0]\n",
        "    Lista com as notas para calcular a média\n",
        "  return = calculo: float\n",
        "    Média calculada\n",
        "  '''\n",
        "\n",
        "  calculo = sum(lista) / len(lista)\n",
        "\n",
        "  if len(lista) > 4:\n",
        "    raise ValueError(\"A lista não pode possuir mais de 4 notas.\")\n",
        "\n",
        "  return calculo"
      ],
      "metadata": {
        "id": "Hf7MQtMjSXS-"
      },
      "execution_count": null,
      "outputs": []
    },
    {
      "cell_type": "code",
      "source": [
        "try:\n",
        "  notas = [6, 7 , 8, 9]\n",
        "  resultado = media(notas)\n",
        "except TypeError:\n",
        "  print(\"Não foi possível calcular a média do(a) estudante. Só são aceitos valores numéricos!\")\n",
        "except ValueError as e:\n",
        "  print(e)\n",
        "else:\n",
        "  print(resultado)\n",
        "finally:\n",
        "  print(\"A consulta foi encerrada!\")"
      ],
      "metadata": {
        "id": "lO8OCMRzSXQv",
        "colab": {
          "base_uri": "https://localhost:8080/"
        },
        "outputId": "06db3a12-9031-4f08-8992-6f13d81455f0"
      },
      "execution_count": null,
      "outputs": [
        {
          "output_type": "stream",
          "name": "stdout",
          "text": [
            "7.5\n",
            "A consulta foi encerrada!\n"
          ]
        }
      ]
    },
    {
      "cell_type": "code",
      "source": [
        "try:\n",
        "  notas = [6, 7 , 8, 9, 8]\n",
        "  resultado = media(notas)\n",
        "except TypeError:\n",
        "  print(\"Não foi possível calcular a média do(a) estudante. Só são aceitos valores numéricos!\")\n",
        "except ValueError as e:\n",
        "  print(e)\n",
        "else:\n",
        "  print(resultado)\n",
        "finally:\n",
        "  print(\"A consulta foi encerrada!\")"
      ],
      "metadata": {
        "id": "A-rA3l4hm4RA",
        "colab": {
          "base_uri": "https://localhost:8080/"
        },
        "outputId": "a5c2caa7-6541-4231-a16f-4d18704ae789"
      },
      "execution_count": null,
      "outputs": [
        {
          "output_type": "stream",
          "name": "stdout",
          "text": [
            "A lista não pode possuir mais de 4 notas.\n",
            "A consulta foi encerrada!\n"
          ]
        }
      ]
    },
    {
      "cell_type": "code",
      "source": [
        "try:\n",
        "  notas = [6, 7 , 8, \"9\"]\n",
        "  resultado = media(notas)\n",
        "except TypeError:\n",
        "  print(\"Não foi possível calcular a média do(a) estudante. Só são aceitos valores numéricos!\")\n",
        "except ValueError as e:\n",
        "  print(e)\n",
        "else:\n",
        "  print(resultado)\n",
        "finally:\n",
        "  print(\"A consulta foi encerrada!\")"
      ],
      "metadata": {
        "id": "Jf3Sg5H-m4Za",
        "colab": {
          "base_uri": "https://localhost:8080/"
        },
        "outputId": "1314cbc5-56a7-4c91-aaab-7b3590870d9c"
      },
      "execution_count": null,
      "outputs": [
        {
          "output_type": "stream",
          "name": "stdout",
          "text": [
            "Não foi possível calcular a média do(a) estudante. Só são aceitos valores numéricos!\n",
            "A consulta foi encerrada!\n"
          ]
        }
      ]
    }
  ]
}